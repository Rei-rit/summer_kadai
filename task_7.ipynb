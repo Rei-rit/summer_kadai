{
 "cells": [
  {
   "cell_type": "code",
   "execution_count": 1,
   "metadata": {},
   "outputs": [
    {
     "name": "stdout",
     "output_type": "stream",
     "text": [
      "A\n",
      "C\n",
      "F\n"
     ]
    }
   ],
   "source": [
    "#1_7_A\n",
    "while True:\n",
    "    m,f,r=list(map(int,input().split()));\n",
    "    \n",
    "    if m==-1 and f==-1 and r==-1:\n",
    "        break;\n",
    "    elif m+f>=80:\n",
    "        print(\"A\");\n",
    "    elif m+f>=65 and m+f<80:\n",
    "        print(\"B\");\n",
    "    elif m+f>=50 and m+f<65:\n",
    "        print(\"C\");\n",
    "    elif m+f>=30 and m+f<50:\n",
    "        if r>=50:\n",
    "            print(\"C\");\n",
    "        else:\n",
    "            print(\"D\");\n",
    "    else:\n",
    "        print(\"F\");"
   ]
  },
  {
   "cell_type": "code",
   "execution_count": 4,
   "metadata": {},
   "outputs": [
    {
     "name": "stdout",
     "output_type": "stream",
     "text": [
      "2\n"
     ]
    }
   ],
   "source": [
    "#1_7_B\n",
    "while True:\n",
    "    count=0;\n",
    "    n,x=list(map(int,input().split()));\n",
    "    \n",
    "    if n==0 and x==0:\n",
    "        break;\n",
    "    else:\n",
    "        for i in range(1,n-1):\n",
    "            for j in range(i+1,n):\n",
    "                for k in range(j+1,n+1):\n",
    "                    sum=0;\n",
    "                    sum=i+j+k;\n",
    "                    if(sum==x):\n",
    "                        count+=1;\n",
    "        print(count);"
   ]
  },
  {
   "cell_type": "code",
   "execution_count": 6,
   "metadata": {},
   "outputs": [
    {
     "name": "stdout",
     "output_type": "stream",
     "text": [
      "1 2 3 6\n",
      "2 3 4 9\n",
      "3 5 7 15\n"
     ]
    }
   ],
   "source": [
    "#1_7_C\n",
    "r,c=map(int,input().split());\n",
    "p=[list(map(int,input().split(\" \"))) for i in range(r)];\n",
    "sum=0;\n",
    "for i in range(r):\n",
    "    for j in range(c):\n",
    "        sum+= p[i][j];\n",
    "    p[i].append(sum);\n",
    "    sum = 0;\n",
    "p.append([]);\n",
    "\n",
    "for i in range(c+1):\n",
    "    for j in range(r):\n",
    "        sum+=p[j][i];\n",
    "    p[r].append(sum);\n",
    "    sum = 0;\n",
    "\n",
    "for i in p:\n",
    "    print(*i);"
   ]
  },
  {
   "cell_type": "code",
   "execution_count": 8,
   "metadata": {},
   "outputs": [
    {
     "ename": "TypeError",
     "evalue": "'int' object is not callable",
     "output_type": "error",
     "traceback": [
      "\u001b[0;31m---------------------------------------------------------------------------\u001b[0m",
      "\u001b[0;31mTypeError\u001b[0m                                 Traceback (most recent call last)",
      "\u001b[0;32m<ipython-input-8-cdc3bf03e1a8>\u001b[0m in \u001b[0;36m<module>\u001b[0;34m()\u001b[0m\n\u001b[1;32m      7\u001b[0m \u001b[0;32mfor\u001b[0m \u001b[0mi\u001b[0m \u001b[0;32min\u001b[0m \u001b[0mrange\u001b[0m\u001b[0;34m(\u001b[0m\u001b[0mn\u001b[0m\u001b[0;34m)\u001b[0m\u001b[0;34m:\u001b[0m\u001b[0;34m\u001b[0m\u001b[0m\n\u001b[1;32m      8\u001b[0m     \u001b[0;32mfor\u001b[0m \u001b[0mj\u001b[0m \u001b[0;32min\u001b[0m \u001b[0mrange\u001b[0m\u001b[0;34m(\u001b[0m\u001b[0ml\u001b[0m\u001b[0;34m)\u001b[0m\u001b[0;34m:\u001b[0m\u001b[0;34m\u001b[0m\u001b[0m\n\u001b[0;32m----> 9\u001b[0;31m         \u001b[0mC\u001b[0m\u001b[0;34m[\u001b[0m\u001b[0mi\u001b[0m\u001b[0;34m]\u001b[0m\u001b[0;34m[\u001b[0m\u001b[0mj\u001b[0m\u001b[0;34m]\u001b[0m \u001b[0;34m=\u001b[0m \u001b[0msum\u001b[0m\u001b[0;34m(\u001b[0m\u001b[0mA\u001b[0m\u001b[0;34m[\u001b[0m\u001b[0mi\u001b[0m\u001b[0;34m]\u001b[0m\u001b[0;34m[\u001b[0m\u001b[0mk\u001b[0m\u001b[0;34m]\u001b[0m\u001b[0;34m*\u001b[0m \u001b[0mB\u001b[0m\u001b[0;34m[\u001b[0m\u001b[0mk\u001b[0m\u001b[0;34m]\u001b[0m\u001b[0;34m[\u001b[0m\u001b[0mj\u001b[0m\u001b[0;34m]\u001b[0m \u001b[0;32mfor\u001b[0m \u001b[0mk\u001b[0m \u001b[0;32min\u001b[0m \u001b[0mrange\u001b[0m\u001b[0;34m(\u001b[0m\u001b[0mm\u001b[0m\u001b[0;34m)\u001b[0m\u001b[0;34m)\u001b[0m\u001b[0;34m;\u001b[0m\u001b[0;34m\u001b[0m\u001b[0m\n\u001b[0m\u001b[1;32m     10\u001b[0m \u001b[0;34m\u001b[0m\u001b[0m\n\u001b[1;32m     11\u001b[0m \u001b[0;32mfor\u001b[0m \u001b[0mi\u001b[0m \u001b[0;32min\u001b[0m \u001b[0mC\u001b[0m\u001b[0;34m:\u001b[0m\u001b[0;34m\u001b[0m\u001b[0m\n",
      "\u001b[0;31mTypeError\u001b[0m: 'int' object is not callable"
     ]
    }
   ],
   "source": [
    "#1_7_D\n",
    "n,m,l = map(int,input().split());\n",
    "A = [list(map(int,input().split())) for i in range(n)];\n",
    "B = [list(map(int,input().split())) for i in range(m)];\n",
    "C = [[0 for i in range(l)] for j in range(n)];\n",
    "\n",
    "for i in range(n):\n",
    "    for j in range(l):\n",
    "        C[i][j] = sum(A[i][k]* B[k][j] for k in range(m));\n",
    "\n",
    "for i in C:\n",
    "    print(*i);"
   ]
  },
  {
   "cell_type": "code",
   "execution_count": null,
   "metadata": {},
   "outputs": [],
   "source": []
  }
 ],
 "metadata": {
  "kernelspec": {
   "display_name": "Python 3",
   "language": "python",
   "name": "python3"
  },
  "language_info": {
   "codemirror_mode": {
    "name": "ipython",
    "version": 3
   },
   "file_extension": ".py",
   "mimetype": "text/x-python",
   "name": "python",
   "nbconvert_exporter": "python",
   "pygments_lexer": "ipython3",
   "version": "3.6.5"
  }
 },
 "nbformat": 4,
 "nbformat_minor": 2
}
