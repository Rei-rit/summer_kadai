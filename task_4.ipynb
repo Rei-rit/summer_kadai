{
 "cells": [
  {
   "cell_type": "code",
   "execution_count": 1,
   "metadata": {},
   "outputs": [
    {
     "name": "stdout",
     "output_type": "stream",
     "text": [
      "1 1 1.500000\n"
     ]
    }
   ],
   "source": [
    "#1_4_A\n",
    "a,b=list(map(int,input().split()));\n",
    "d = int(a/b);\n",
    "r = int(a%b);\n",
    "f = a/b;\n",
    "print(\"{0} {1} {2:5f}\".format(d,r,f))"
   ]
  },
  {
   "cell_type": "code",
   "execution_count": 2,
   "metadata": {},
   "outputs": [
    {
     "name": "stdout",
     "output_type": "stream",
     "text": [
      "12.566371,12.566371\n"
     ]
    }
   ],
   "source": [
    "#1_4_B\n",
    "pi = 3.1415926535897932384626;\n",
    "r=float(input());\n",
    "S=r*r*pi;\n",
    "L=2*r*pi;\n",
    "print(\"{0:6f},{1:6f}\".format(S,L))"
   ]
  },
  {
   "cell_type": "code",
   "execution_count": 4,
   "metadata": {},
   "outputs": [
    {
     "name": "stdout",
     "output_type": "stream",
     "text": [
      "3\n",
      "38\n",
      "26\n",
      "10\n"
     ]
    }
   ],
   "source": [
    "#1_4_C\n",
    "while True:\n",
    "    a,op,b=input().split();\n",
    "    a=int(a);\n",
    "    b=int(b);\n",
    "    if a==0 and op==\"?\" and b==0:\n",
    "        break;\n",
    "    elif op == \"+\":\n",
    "        print(a+b);\n",
    "    elif op == \"-\":\n",
    "        print(a-b);\n",
    "    elif op == \"*\":\n",
    "        print(a*b);\n",
    "    elif op == \"/\":\n",
    "        print(int(a/b));"
   ]
  },
  {
   "cell_type": "code",
   "execution_count": 5,
   "metadata": {},
   "outputs": [
    {
     "name": "stdout",
     "output_type": "stream",
     "text": [
      "1 17 37\n"
     ]
    }
   ],
   "source": [
    "#1_4_D\n",
    "n=int(input());\n",
    "l=list(map(int,input().split()));\n",
    "if len(l)!=n:\n",
    "    print(\"整数の数が違います\");\n",
    "else:\n",
    "    l_max=max(l);\n",
    "    l_min=min(l);\n",
    "    l_sum=sum(l);\n",
    "    print(l_min,l_max,l_sum);"
   ]
  },
  {
   "cell_type": "code",
   "execution_count": null,
   "metadata": {},
   "outputs": [],
   "source": []
  }
 ],
 "metadata": {
  "kernelspec": {
   "display_name": "Python 3",
   "language": "python",
   "name": "python3"
  },
  "language_info": {
   "codemirror_mode": {
    "name": "ipython",
    "version": 3
   },
   "file_extension": ".py",
   "mimetype": "text/x-python",
   "name": "python",
   "nbconvert_exporter": "python",
   "pygments_lexer": "ipython3",
   "version": "3.6.5"
  }
 },
 "nbformat": 4,
 "nbformat_minor": 2
}
