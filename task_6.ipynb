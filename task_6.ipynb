{
 "cells": [
  {
   "cell_type": "code",
   "execution_count": 1,
   "metadata": {},
   "outputs": [
    {
     "name": "stdout",
     "output_type": "stream",
     "text": [
      "[5, 4, 3, 2, 1]\n"
     ]
    }
   ],
   "source": [
    "#1_6_A\n",
    "n=int(input());\n",
    "lst=list(map(int,input().split()));\n",
    "if len(lst)!=n:\n",
    "    print(\"入力に誤りがあります\")\n",
    "else:\n",
    "    lst.sort();\n",
    "    lst.reverse();\n",
    "    print(lst);"
   ]
  },
  {
   "cell_type": "code",
   "execution_count": 3,
   "metadata": {},
   "outputs": [
    {
     "name": "stdout",
     "output_type": "stream",
     "text": [
      "S 1\n",
      "S 2\n",
      "S 3\n",
      "S 4\n",
      "S 5\n",
      "S 6\n",
      "S 7\n",
      "S 8\n",
      "S 9\n",
      "S 11\n",
      "S 12\n",
      "S 13\n",
      "H 1\n",
      "H 2\n",
      "H 3\n",
      "H 4\n",
      "H 5\n",
      "H 6\n",
      "H 7\n",
      "H 8\n",
      "H 9\n",
      "H 10\n",
      "H 11\n",
      "H 12\n",
      "H 13\n",
      "C 1\n",
      "C 2\n",
      "C 3\n",
      "C 4\n",
      "C 5\n",
      "C 6\n",
      "C 7\n",
      "C 8\n",
      "C 9\n",
      "C 10\n",
      "C 11\n",
      "C 12\n",
      "C 13\n",
      "D 1\n",
      "D 2\n",
      "D 3\n",
      "D 4\n",
      "D 5\n",
      "D 6\n",
      "D 7\n",
      "D 8\n",
      "D 9\n",
      "D 10\n",
      "D 11\n",
      "D 12\n",
      "D 13\n"
     ]
    }
   ],
   "source": [
    "#1_6_B\n",
    "n=int(input());\n",
    "trump=[[False for i in range(13)] for j in range(4)];\n",
    "pattern=[\"S\",\"H\",\"C\",\"D\"];\n",
    "\n",
    "for k in range(n):\n",
    "    st,num=input().split();\n",
    "    num=int(num);\n",
    "    if st==\"S\":\n",
    "        trump[0][num-1]=True;\n",
    "    elif st==\"H\":\n",
    "        trump[0][num-1]=True;\n",
    "    elif st==\"C\":\n",
    "        trump[0][num-1]=True;\n",
    "    else:\n",
    "        trump[0][num-1]=True;\n",
    "\n",
    "for l in range(4):\n",
    "    for m in range(13):\n",
    "        if trump[l][m]==False:\n",
    "            print(pattern[l],m+1);"
   ]
  },
  {
   "cell_type": "code",
   "execution_count": 1,
   "metadata": {},
   "outputs": [
    {
     "name": "stdout",
     "output_type": "stream",
     "text": [
      " 0 0 8 0 0 0 0 0 0 0\n",
      " 0 0 0 0 0 0 0 0 0 0\n",
      " 0 0 0 0 0 0 0 0 0 0\n",
      "####################\n",
      " 0 0 0 0 0 0 0 0 0 0\n",
      " 0 0 0 0 0 0 0 0 0 0\n",
      " 0 0 0 0 0 0 0 0 0 0\n",
      "####################\n",
      " 0 0 0 0 0 0 0 0 0 0\n",
      " 0 7 0 0 0 0 0 0 0 0\n",
      " 0 0 0 0 0 0 0 0 0 0\n",
      "####################\n",
      " 0 0 0 0 0 0 0 0 0 0\n",
      " 0 0 0 0 0 0 0 0 0 0\n",
      " 0 0 0 0 0 0 0 1 0 0\n"
     ]
    }
   ],
   "source": [
    "#1_6_C\n",
    "bfrv=[[[0 for i in range(10)] for j in range(3)] for k in range(4)];\n",
    "\n",
    "n=int(input());\n",
    "\n",
    "for i in range(n):\n",
    "    a,b,c,d=map(int,input().split());\n",
    "    bfrv[a-1][b-1][c-1]+=d;\n",
    "\n",
    "for j in range(4):\n",
    "    for k in bfrv[j]:\n",
    "        print(\"\",*k);\n",
    "        \n",
    "    if j != 3:\n",
    "        print(\"#\"*20);"
   ]
  },
  {
   "cell_type": "code",
   "execution_count": 2,
   "metadata": {},
   "outputs": [
    {
     "name": "stdout",
     "output_type": "stream",
     "text": [
      "5\n",
      "6\n",
      "9\n"
     ]
    }
   ],
   "source": [
    "#1_6_D\n",
    "n,m = map(int,input().split());\n",
    "A = [list(map(int,input().split())) for i in range(n)];\n",
    "b = [list(map(int,input().split())) for i in range(m)];\n",
    "c = [0 for j in range(n)];\n",
    "for i in range(n):\n",
    "    for j in range(m):\n",
    "        c[i] += A[i][j] * b[j][0];\n",
    "\n",
    "for i in c:\n",
    "    print(i);"
   ]
  },
  {
   "cell_type": "code",
   "execution_count": null,
   "metadata": {},
   "outputs": [],
   "source": []
  }
 ],
 "metadata": {
  "kernelspec": {
   "display_name": "Python 3",
   "language": "python",
   "name": "python3"
  },
  "language_info": {
   "codemirror_mode": {
    "name": "ipython",
    "version": 3
   },
   "file_extension": ".py",
   "mimetype": "text/x-python",
   "name": "python",
   "nbconvert_exporter": "python",
   "pygments_lexer": "ipython3",
   "version": "3.6.5"
  }
 },
 "nbformat": 4,
 "nbformat_minor": 2
}
