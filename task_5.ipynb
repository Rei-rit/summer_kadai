{
 "cells": [
  {
   "cell_type": "code",
   "execution_count": 1,
   "metadata": {},
   "outputs": [
    {
     "name": "stdout",
     "output_type": "stream",
     "text": [
      "##\n",
      "##\n",
      "##\n"
     ]
    }
   ],
   "source": [
    "#1_5_A\n",
    "while True:\n",
    "    H,W=list(map(int,input().split()));\n",
    "    if H==0 and W==0:\n",
    "        break;\n",
    "    for i in range(H):\n",
    "        for j in range(W):\n",
    "            print(\"#\",end='');\n",
    "        print();"
   ]
  },
  {
   "cell_type": "code",
   "execution_count": 2,
   "metadata": {},
   "outputs": [
    {
     "name": "stdout",
     "output_type": "stream",
     "text": [
      "####\n",
      "#..#\n",
      "####\n",
      "######\n",
      "#....#\n",
      "#....#\n",
      "#....#\n",
      "######\n",
      "###\n",
      "#.#\n",
      "###\n"
     ]
    }
   ],
   "source": [
    "#1_5_B\n",
    "while True:\n",
    "    H,W=list(map(int,input().split()));\n",
    "    if H==0 and W==0:\n",
    "        break;\n",
    "    for i in range(H):\n",
    "        for j in range(W):\n",
    "            if i==0 or i==H-1:\n",
    "                print(\"#\",end='');\n",
    "            else:\n",
    "                if j==0 or j==W-1:\n",
    "                    print(\"#\",end='');\n",
    "                else:\n",
    "                    print(\".\",end='');\n",
    "        print();"
   ]
  },
  {
   "cell_type": "code",
   "execution_count": 3,
   "metadata": {},
   "outputs": [
    {
     "name": "stdout",
     "output_type": "stream",
     "text": [
      "#.#.\n",
      ".#.#\n",
      "#.#.\n",
      "#.#.#.\n",
      ".#.#.#\n",
      "#.#.#.\n",
      ".#.#.#\n",
      "#.#.#.\n"
     ]
    }
   ],
   "source": [
    "#1_5_C\n",
    "while True:\n",
    "    H,W=list(map(int,input().split()));\n",
    "    if H==0 and W==0:\n",
    "        break;\n",
    "    for i in range(H):\n",
    "        for j in range(W):\n",
    "            if i%2==0:\n",
    "                if j%2==0:\n",
    "                    print(\"#\",end='');\n",
    "                else:\n",
    "                    print(\".\",end='');\n",
    "            else:\n",
    "                if j%2!=0:\n",
    "                    print(\"#\",end='');\n",
    "                else:\n",
    "                    print(\".\",end='');\n",
    "        print();"
   ]
  },
  {
   "cell_type": "code",
   "execution_count": 4,
   "metadata": {},
   "outputs": [
    {
     "name": "stdout",
     "output_type": "stream",
     "text": [
      " 3 6 9 12 13 15 18 21 23 24 27 30\n"
     ]
    }
   ],
   "source": [
    "#1_5_D\n",
    "n=int(input());\n",
    "i=1;\n",
    "while(i<=n):\n",
    "    x=i\n",
    "    if(int(x%3)==0):\n",
    "        print(\" \"+str(i),end='');\n",
    "    elif(int(x%10)==3):\n",
    "        print(\" \"+str(i),end='');\n",
    "    else:\n",
    "        while(True):\n",
    "            if(int(x%10)==3):\n",
    "                print(\" \"+str(i),end='');\n",
    "                break;\n",
    "            else:\n",
    "                x=int(x/10);\n",
    "                if(x==0):\n",
    "                    break;\n",
    "    i+=1;\n",
    "print();"
   ]
  },
  {
   "cell_type": "code",
   "execution_count": null,
   "metadata": {},
   "outputs": [],
   "source": []
  }
 ],
 "metadata": {
  "kernelspec": {
   "display_name": "Python 3",
   "language": "python",
   "name": "python3"
  },
  "language_info": {
   "codemirror_mode": {
    "name": "ipython",
    "version": 3
   },
   "file_extension": ".py",
   "mimetype": "text/x-python",
   "name": "python",
   "nbconvert_exporter": "python",
   "pygments_lexer": "ipython3",
   "version": "3.6.5"
  }
 },
 "nbformat": 4,
 "nbformat_minor": 2
}
