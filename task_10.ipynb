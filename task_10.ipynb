{
 "cells": [
  {
   "cell_type": "code",
   "execution_count": 1,
   "metadata": {},
   "outputs": [
    {
     "name": "stdout",
     "output_type": "stream",
     "text": [
      "1.4142135623730951\n"
     ]
    }
   ],
   "source": [
    "#1_10_A\n",
    "import math\n",
    "x1,y1,x2,y2 = map(float,input().split());\n",
    "x=x2-x1;\n",
    "y=y2-y1;\n",
    "Ans=math.sqrt(x**2+y**2);\n",
    "print(Ans);"
   ]
  },
  {
   "cell_type": "code",
   "execution_count": 6,
   "metadata": {},
   "outputs": [
    {
     "name": "stdout",
     "output_type": "stream",
     "text": [
      "6.0\n",
      "12.0\n",
      "3.0\n",
      "\n"
     ]
    }
   ],
   "source": [
    "#1_10_B\n",
    "import math\n",
    "a,b,C=map(int,input().split())\n",
    "S=a*b*math.sin((C*2*math.pi)/360)/2\n",
    "c=math.sqrt(a**2+b**2-2*a*b*math.cos((C*2*math.pi)/360))\n",
    "L=a+b+c\n",
    "h=2*float(S)/a\n",
    "print(str(S)+'\\n'+str(L)+'\\n'+str(h)+'\\n')"
   ]
  },
  {
   "cell_type": "code",
   "execution_count": 7,
   "metadata": {},
   "outputs": [
    {
     "name": "stdout",
     "output_type": "stream",
     "text": [
      "27.85677655436824\n",
      "0.0\n"
     ]
    }
   ],
   "source": [
    "#1_10_C\n",
    "import math\n",
    "while True:\n",
    "    n=int(input());\n",
    "    if n==0:\n",
    "        break;\n",
    "    s=list(map(int,input().split()));\n",
    "    m=sum(s)/n;\n",
    "    x=0;\n",
    "    for i in range(n):\n",
    "        x+=(s[i]-m)**2;\n",
    "    a=x/n;\n",
    "    print(math.sqrt(a));\n",
    "    a=0;"
   ]
  },
  {
   "cell_type": "code",
   "execution_count": null,
   "metadata": {},
   "outputs": [],
   "source": [
    "#1_10_D\n",
    "import math\n",
    "n=int(input());\n",
    "x_v=list(map(int,input().split()));\n",
    "y_v=list(map(int,input().split()));\n"
   ]
  }
 ],
 "metadata": {
  "kernelspec": {
   "display_name": "Python 3",
   "language": "python",
   "name": "python3"
  },
  "language_info": {
   "codemirror_mode": {
    "name": "ipython",
    "version": 3
   },
   "file_extension": ".py",
   "mimetype": "text/x-python",
   "name": "python",
   "nbconvert_exporter": "python",
   "pygments_lexer": "ipython3",
   "version": "3.6.5"
  }
 },
 "nbformat": 4,
 "nbformat_minor": 2
}
