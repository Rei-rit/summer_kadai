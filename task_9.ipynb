{
 "cells": [
  {
   "cell_type": "code",
   "execution_count": 1,
   "metadata": {},
   "outputs": [
    {
     "name": "stdout",
     "output_type": "stream",
     "text": [
      "3\n"
     ]
    }
   ],
   "source": [
    "#1_9_A\n",
    "W=input().lower();\n",
    "count=0;\n",
    "\n",
    "while True:\n",
    "    T=input();\n",
    "    if T==\"END_OF_TEXT\":\n",
    "        break;\n",
    "    count+=T.lower().split().count(W);\n",
    "\n",
    "print(count);"
   ]
  },
  {
   "cell_type": "code",
   "execution_count": 2,
   "metadata": {},
   "outputs": [
    {
     "name": "stdout",
     "output_type": "stream",
     "text": [
      "aabc\n",
      "xyzvw\n"
     ]
    }
   ],
   "source": [
    "#1_9_B\n",
    "import random;\n",
    "\n",
    "while True:\n",
    "    n = list(input());\n",
    "    \n",
    "    if n == [\"-\"]:\n",
    "        break\n",
    "    else :\n",
    "        \n",
    "        m = int(input());\n",
    "        for i in range(m):\n",
    "            h = int(input());\n",
    "            a = [];\n",
    "            for j in range(h):\n",
    "                a.append(n.pop(0));    \n",
    "            n.extend(a);\n",
    "            \n",
    "        for i in range(len(n)):\n",
    "            print(n[i],end=\"\");\n",
    "        print();"
   ]
  },
  {
   "cell_type": "code",
   "execution_count": 5,
   "metadata": {},
   "outputs": [
    {
     "name": "stdout",
     "output_type": "stream",
     "text": [
      "1 7\n"
     ]
    }
   ],
   "source": [
    "#1_9_C\n",
    "n = int(input())\n",
    "t_pt = 0\n",
    "h_pt = 0\n",
    "\n",
    "for i in range(n):\n",
    "    taro, hanako = input().split()\n",
    "    if taro > hanako:\n",
    "        t_pt = t_pt + 3\n",
    "    elif taro == hanako:\n",
    "        t_pt = t_pt + 1\n",
    "        h_pt = h_pt + 1\n",
    "    else:\n",
    "        h_pt = h_pt + 3\n",
    "        \n",
    "print(str(t_pt) + \" \" + str(h_pt))"
   ]
  },
  {
   "cell_type": "code",
   "execution_count": 6,
   "metadata": {},
   "outputs": [
    {
     "name": "stdout",
     "output_type": "stream",
     "text": [
      "xaze\n"
     ]
    }
   ],
   "source": [
    "#1_9_D\n",
    "w=input();\n",
    "q=int(input());\n",
    "\n",
    "for i in range(q):\n",
    "    order=list(map(str,input().split()));\n",
    "    first,last=int(order[1]),int(order[2])+1;\n",
    "    \n",
    "    if order[0]==\"replace\":\n",
    "        w=list(w);\n",
    "        w[first:last]=order[3];\n",
    "        w=\"\".join(w);\n",
    "    elif order[0]==\"print\":\n",
    "        print(w[first:last]);\n",
    "    else:\n",
    "        new_w=w[first:last][::-1];\n",
    "        w=w.replace(w[first:last],new_w);"
   ]
  },
  {
   "cell_type": "code",
   "execution_count": null,
   "metadata": {},
   "outputs": [],
   "source": []
  }
 ],
 "metadata": {
  "kernelspec": {
   "display_name": "Python 3",
   "language": "python",
   "name": "python3"
  },
  "language_info": {
   "codemirror_mode": {
    "name": "ipython",
    "version": 3
   },
   "file_extension": ".py",
   "mimetype": "text/x-python",
   "name": "python",
   "nbconvert_exporter": "python",
   "pygments_lexer": "ipython3",
   "version": "3.6.5"
  }
 },
 "nbformat": 4,
 "nbformat_minor": 2
}
