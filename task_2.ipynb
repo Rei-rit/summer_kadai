{
 "cells": [
  {
   "cell_type": "code",
   "execution_count": 1,
   "metadata": {},
   "outputs": [
    {
     "name": "stdout",
     "output_type": "stream",
     "text": [
      "a<b\n"
     ]
    }
   ],
   "source": [
    "#1_2_A\n",
    "i = input()\n",
    "a,b = list(map(int, i.split()))\n",
    "if a>b:\n",
    "    print(\"a>b\")\n",
    "elif a<b:\n",
    "    print(\"a<b\")\n",
    "else:\n",
    "    print(\"a==b\")"
   ]
  },
  {
   "cell_type": "code",
   "execution_count": 2,
   "metadata": {},
   "outputs": [
    {
     "name": "stdout",
     "output_type": "stream",
     "text": [
      "Yes\n"
     ]
    }
   ],
   "source": [
    "#1_2_B\n",
    "i=input();\n",
    "a,b,c=list(map(int,i.split()));\n",
    "if a<b<c:\n",
    "    print(\"Yes\");\n",
    "else:\n",
    "    print(\"No\");"
   ]
  },
  {
   "cell_type": "code",
   "execution_count": 3,
   "metadata": {},
   "outputs": [
    {
     "name": "stdout",
     "output_type": "stream",
     "text": [
      "[1, 3, 8]\n"
     ]
    }
   ],
   "source": [
    "#1_2_C\n",
    "i=input();\n",
    "l=list(map(int,i.split()));\n",
    "if l[0]>l[1]:\n",
    "    l[0],l[1] =l[1],l[0];\n",
    "if l[1]>l[2]:\n",
    "    l[1],l[2] =l[2],l[1];\n",
    "if l[0]>l[1]:\n",
    "    l[0],l[1] =l[1],l[0];\n",
    "print(l);"
   ]
  },
  {
   "cell_type": "code",
   "execution_count": 4,
   "metadata": {},
   "outputs": [
    {
     "name": "stdout",
     "output_type": "stream",
     "text": [
      "Yes\n"
     ]
    }
   ],
   "source": [
    "#1_2_D\n",
    "i=input();\n",
    "l=list(map(int,i.split()));\n",
    "#int x,y,W,H,r;\n",
    "#-100<=x,y<=100;\n",
    "#0<W,H,r<=100;\n",
    "#W,H,x,y,r\n",
    "if l[2]-l[4]>=0 and l[2]+l[4]<=l[0] and l[3]-l[4]>=0 and l[3]+l[4]<=l[1]:\n",
    "    print(\"Yes\");\n",
    "else:\n",
    "    print(\"No\");"
   ]
  },
  {
   "cell_type": "code",
   "execution_count": null,
   "metadata": {},
   "outputs": [],
   "source": []
  }
 ],
 "metadata": {
  "kernelspec": {
   "display_name": "Python 3",
   "language": "python",
   "name": "python3"
  },
  "language_info": {
   "codemirror_mode": {
    "name": "ipython",
    "version": 3
   },
   "file_extension": ".py",
   "mimetype": "text/x-python",
   "name": "python",
   "nbconvert_exporter": "python",
   "pygments_lexer": "ipython3",
   "version": "3.6.5"
  }
 },
 "nbformat": 4,
 "nbformat_minor": 2
}
